{
 "cells": [
  {
   "cell_type": "code",
   "execution_count": 31,
   "id": "d57f8a87",
   "metadata": {},
   "outputs": [
    {
     "name": "stdout",
     "output_type": "stream",
     "text": [
      "success\n"
     ]
    }
   ],
   "source": [
    "\n",
    "\n",
    "from lnn import (Predicate, Variable,\n",
    "                 Exists, Implies, ForAll, Model, Fact, World)\n",
    "\n",
    "\n",
    "def test_1():\n",
    "   \n",
    "\n",
    "    x = Variable('x')\n",
    "    rectangles = Predicate(name='rectangles')\n",
    "    parallelograms = Predicate(name='parallelograms')\n",
    "    parallel_sides = Predicate(name='parallel-sides')\n",
    "    rectangles_parallelograms = ForAll(x, Implies(rectangles(x), parallelograms(x),\n",
    "                                    name='rectangles-parallelograms'),\n",
    "                         name='all-rectangles-parallelograms', world=World.AXIOM)\n",
    "    parallelograms_parallel_sides = ForAll(x, Implies(parallelograms(x),parallel_sides(x),\n",
    "                                       name='parallelograms-parallel-sides'),\n",
    "                            name='all-parallelograms-parallel-sides', world=World.AXIOM)\n",
    "    query = Exists(x, parallel_sides(x), name='parallel_sides_objects')\n",
    "\n",
    "    model = Model()\n",
    "    model.add_formulae(rectangles, parallelograms, rectangles_parallelograms, parallelograms_parallel_sides, query)\n",
    "    model.add_facts({'rectangles': {'c': Fact.TRUE, 'k': Fact.TRUE}})\n",
    "\n",
    "    steps, facts_inferred = model.infer()\n",
    "\n",
    "    # Currently finishes in 4 inference steps\n",
    "    assert steps == 4, \"FAILED 😔\"\n",
    "\n",
    "    GT_o = dict([\n",
    "        (('c'), Fact.TRUE),\n",
    "        (('k'), Fact.TRUE)])\n",
    "\n",
    "    assert all([model['parallel_sides_objects'].state(groundings=g) is GT_o[g]\n",
    "                for g in GT_o]), \"FAILED 😔\"\n",
    "\n",
    "\n",
    "if __name__ == \"__main__\":\n",
    "    test_1()\n",
    "    print('success')"
   ]
  },
  {
   "cell_type": "code",
   "execution_count": null,
   "id": "75b22a2b",
   "metadata": {},
   "outputs": [],
   "source": []
  },
  {
   "cell_type": "code",
   "execution_count": null,
   "id": "5b7f14a5",
   "metadata": {},
   "outputs": [],
   "source": []
  },
  {
   "cell_type": "code",
   "execution_count": null,
   "id": "3464d229",
   "metadata": {},
   "outputs": [],
   "source": []
  },
  {
   "cell_type": "code",
   "execution_count": null,
   "id": "1442f3b0",
   "metadata": {},
   "outputs": [],
   "source": []
  },
  {
   "cell_type": "code",
   "execution_count": null,
   "id": "b2fa5a8e",
   "metadata": {},
   "outputs": [],
   "source": []
  },
  {
   "cell_type": "code",
   "execution_count": null,
   "id": "908e6199",
   "metadata": {},
   "outputs": [],
   "source": []
  },
  {
   "cell_type": "code",
   "execution_count": null,
   "id": "5323e760",
   "metadata": {},
   "outputs": [],
   "source": []
  },
  {
   "cell_type": "code",
   "execution_count": null,
   "id": "43ae006f",
   "metadata": {},
   "outputs": [],
   "source": []
  },
  {
   "cell_type": "code",
   "execution_count": null,
   "id": "b1dbd748",
   "metadata": {},
   "outputs": [],
   "source": []
  },
  {
   "cell_type": "code",
   "execution_count": null,
   "id": "230e2c99",
   "metadata": {},
   "outputs": [],
   "source": []
  },
  {
   "cell_type": "code",
   "execution_count": null,
   "id": "dd1139ec",
   "metadata": {},
   "outputs": [],
   "source": []
  }
 ],
 "metadata": {
  "kernelspec": {
   "display_name": "Python 3 (ipykernel)",
   "language": "python",
   "name": "python3"
  },
  "language_info": {
   "codemirror_mode": {
    "name": "ipython",
    "version": 3
   },
   "file_extension": ".py",
   "mimetype": "text/x-python",
   "name": "python",
   "nbconvert_exporter": "python",
   "pygments_lexer": "ipython3",
   "version": "3.9.7"
  }
 },
 "nbformat": 4,
 "nbformat_minor": 5
}
