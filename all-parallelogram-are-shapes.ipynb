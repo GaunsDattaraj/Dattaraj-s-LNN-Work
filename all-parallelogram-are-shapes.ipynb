{
 "cells": [
  {
   "cell_type": "code",
   "execution_count": null,
   "id": "fabce774",
   "metadata": {},
   "outputs": [],
   "source": []
  },
  {
   "cell_type": "code",
   "execution_count": 10,
   "id": "7e17bbc9",
   "metadata": {},
   "outputs": [
    {
     "name": "stdout",
     "output_type": "stream",
     "text": [
      "success\n"
     ]
    }
   ],
   "source": [
    "from lnn import (Predicate, Variable,\n",
    "                 Exists, Implies, ForAll, Model, Fact, World)\n",
    "\n",
    "\n",
    "def test_1():\n",
    "   \n",
    "\n",
    "    x = Variable('x')\n",
    "    \n",
    "    parallelograms = Predicate(name='parallelograms')\n",
    "    shapes = Predicate(name='shapes')\n",
    "    sides = Predicate(name='sides')\n",
    "    parallelograms_shapes = ForAll(x, Implies(parallelograms(x), shapes(x),\n",
    "                                    name='parallelograms-shapes'),\n",
    "                         name='all-parallelograms-shapes', world=World.AXIOM)\n",
    "    shapes_sides = ForAll(x, Implies(shapes(x),sides(x),\n",
    "                                       name='shapes-sides'),\n",
    "                            name='all-shapes-sides', world=World.AXIOM)\n",
    "    query = Exists(x, sides(x), name='sides_objects')\n",
    "\n",
    "    model = Model()\n",
    "    model.add_formulae(parallelograms, shapes, parallelograms_shapes, shapes_sides, query)\n",
    "    model.add_facts({'parallelograms': {'c': Fact.TRUE, 'k': Fact.TRUE}})\n",
    "\n",
    "    steps, facts_inferred = model.infer()\n",
    "\n",
    "    # Currently finishes in 4 inference steps\n",
    "    assert steps == 4, \"FAILED 😔\"\n",
    "\n",
    "    GT_o = dict([\n",
    "        (('c'), Fact.TRUE),\n",
    "        (('k'), Fact.TRUE)])\n",
    "\n",
    "    assert all([model['sides_objects'].state(groundings=g) is GT_o[g]\n",
    "                for g in GT_o]), \"FAILED 😔\"\n",
    "\n",
    "\n",
    "if __name__ == \"__main__\":\n",
    "    test_1()\n",
    "    print('success')"
   ]
  },
  {
   "cell_type": "code",
   "execution_count": null,
   "id": "c6002181",
   "metadata": {},
   "outputs": [],
   "source": []
  },
  {
   "cell_type": "code",
   "execution_count": null,
   "id": "1d357b28",
   "metadata": {},
   "outputs": [],
   "source": []
  },
  {
   "cell_type": "code",
   "execution_count": null,
   "id": "fe4d3cbc",
   "metadata": {},
   "outputs": [],
   "source": []
  },
  {
   "cell_type": "code",
   "execution_count": null,
   "id": "3a79f892",
   "metadata": {},
   "outputs": [],
   "source": []
  },
  {
   "cell_type": "code",
   "execution_count": null,
   "id": "f66a95e4",
   "metadata": {},
   "outputs": [],
   "source": []
  },
  {
   "cell_type": "code",
   "execution_count": null,
   "id": "db78777b",
   "metadata": {},
   "outputs": [],
   "source": []
  },
  {
   "cell_type": "code",
   "execution_count": null,
   "id": "6f52c29b",
   "metadata": {},
   "outputs": [],
   "source": []
  },
  {
   "cell_type": "code",
   "execution_count": null,
   "id": "36e034ed",
   "metadata": {},
   "outputs": [],
   "source": []
  },
  {
   "cell_type": "code",
   "execution_count": null,
   "id": "721831e5",
   "metadata": {},
   "outputs": [],
   "source": []
  }
 ],
 "metadata": {
  "kernelspec": {
   "display_name": "Python 3 (ipykernel)",
   "language": "python",
   "name": "python3"
  },
  "language_info": {
   "codemirror_mode": {
    "name": "ipython",
    "version": 3
   },
   "file_extension": ".py",
   "mimetype": "text/x-python",
   "name": "python",
   "nbconvert_exporter": "python",
   "pygments_lexer": "ipython3",
   "version": "3.9.7"
  }
 },
 "nbformat": 4,
 "nbformat_minor": 5
}
