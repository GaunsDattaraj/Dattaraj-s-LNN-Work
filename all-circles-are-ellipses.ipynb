{
 "cells": [
  {
   "cell_type": "code",
   "execution_count": 2,
   "id": "404a2a52",
   "metadata": {},
   "outputs": [
    {
     "name": "stdout",
     "output_type": "stream",
     "text": [
      "success\n"
     ]
    }
   ],
   "source": [
    "from lnn import (Predicate, Variable,\n",
    "                 Exists, Implies, ForAll, Model, Fact, World)\n",
    "\n",
    "\n",
    "def test_1():\n",
    "   \n",
    "\n",
    "    x = Variable('x')\n",
    "    circles = Predicate(name='circles')\n",
    "    ellipses = Predicate(name='ellipses')\n",
    "    closed_curve = Predicate(name='closed-curve')\n",
    "    circles_ellipses = ForAll(x, Implies(circles(x), ellipses(x),\n",
    "                                    name='circles-ellipses'),\n",
    "                         name='all-circles-ellipses', world=World.AXIOM)\n",
    "    ellipses_closed_curve = ForAll(x, Implies(ellipses(x),closed_curve(x),\n",
    "                                       name='ellipses-closed-curve'),\n",
    "                            name='all-ellipses-closed-curve', world=World.AXIOM)\n",
    "    query = Exists(x, closed_curve(x), name='closed_curve_objects')\n",
    "\n",
    "    model = Model()\n",
    "    model.add_formulae(circles, ellipses, circles_ellipses, ellipses_closed_curve, query)\n",
    "    model.add_facts({'circles': {'c': Fact.TRUE, 'k': Fact.TRUE}})\n",
    "\n",
    "    steps, facts_inferred = model.infer()\n",
    "\n",
    "    # Currently finishes in 4 inference steps\n",
    "    assert steps == 4, \"FAILED 😔\"\n",
    "\n",
    "    GT_o = dict([\n",
    "        (('c'), Fact.TRUE),\n",
    "        (('k'), Fact.TRUE)])\n",
    "\n",
    "    assert all([model['closed_curve_objects'].state(groundings=g) is GT_o[g]\n",
    "                for g in GT_o]), \"FAILED 😔\"\n",
    "\n",
    "\n",
    "if __name__ == \"__main__\":\n",
    "    test_1()\n",
    "    print('success')"
   ]
  },
  {
   "cell_type": "code",
   "execution_count": null,
   "id": "c449dad8",
   "metadata": {},
   "outputs": [],
   "source": []
  },
  {
   "cell_type": "code",
   "execution_count": null,
   "id": "6b1cf3f4",
   "metadata": {},
   "outputs": [],
   "source": []
  },
  {
   "cell_type": "code",
   "execution_count": null,
   "id": "f321c120",
   "metadata": {},
   "outputs": [],
   "source": []
  },
  {
   "cell_type": "code",
   "execution_count": null,
   "id": "961e3d40",
   "metadata": {},
   "outputs": [],
   "source": []
  },
  {
   "cell_type": "code",
   "execution_count": null,
   "id": "b878857f",
   "metadata": {},
   "outputs": [],
   "source": []
  },
  {
   "cell_type": "code",
   "execution_count": null,
   "id": "be46175f",
   "metadata": {},
   "outputs": [],
   "source": []
  },
  {
   "cell_type": "code",
   "execution_count": null,
   "id": "70811dad",
   "metadata": {},
   "outputs": [],
   "source": []
  }
 ],
 "metadata": {
  "kernelspec": {
   "display_name": "Python 3 (ipykernel)",
   "language": "python",
   "name": "python3"
  },
  "language_info": {
   "codemirror_mode": {
    "name": "ipython",
    "version": 3
   },
   "file_extension": ".py",
   "mimetype": "text/x-python",
   "name": "python",
   "nbconvert_exporter": "python",
   "pygments_lexer": "ipython3",
   "version": "3.9.7"
  }
 },
 "nbformat": 4,
 "nbformat_minor": 5
}
